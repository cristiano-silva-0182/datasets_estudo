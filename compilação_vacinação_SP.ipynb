{
  "nbformat": 4,
  "nbformat_minor": 0,
  "metadata": {
    "colab": {
      "name": "compilação_vacinação_SP.ipynb",
      "provenance": [],
      "authorship_tag": "ABX9TyN9nOqjo15piX3qbVZIQKT1",
      "include_colab_link": true
    },
    "kernelspec": {
      "name": "python3",
      "display_name": "Python 3"
    },
    "language_info": {
      "name": "python"
    }
  },
  "cells": [
    {
      "cell_type": "markdown",
      "metadata": {
        "id": "view-in-github",
        "colab_type": "text"
      },
      "source": [
        "<a href=\"https://colab.research.google.com/github/cristiano-silva-0182/datasets_estudo/blob/main/compila%C3%A7%C3%A3o_vacina%C3%A7%C3%A3o_SP.ipynb\" target=\"_parent\"><img src=\"https://colab.research.google.com/assets/colab-badge.svg\" alt=\"Open In Colab\"/></a>"
      ]
    },
    {
      "cell_type": "code",
      "metadata": {
        "id": "kUp3eCok38VB"
      },
      "source": [
        "import pandas as pd\n",
        "import numpy as np\n",
        "from datetime import date\n",
        "from dateutil.relativedelta import relativedelta"
      ],
      "execution_count": 7,
      "outputs": []
    },
    {
      "cell_type": "code",
      "metadata": {
        "id": "uSKKl4WxqeUS"
      },
      "source": [
        "# FUNÇÃO PARA A CORREÇÃO DE INCONSISTÊNCIAS DE NOMES DE MUNICÍPIOS\n",
        "def ajuste_cidades(x):\n",
        "  x['cidade'] = x['cidade'].replace(\"''\",\"'\", regex=True)\n",
        "\n",
        "  x.loc[x.iloc[:,0]=='ARCO IRIS',x.columns[0]] =  'ARCO-IRIS'\n",
        "  x.loc[x.iloc[:,0]=='BIRITIBA-MIRIM',x.columns[0]] =  'BIRITIBA MIRIM'\n",
        "  x.loc[x.iloc[:,0]=='EMBU GUACU',x.columns[0]] =  'EMBU-GUACU'\n",
        "  x.loc[x.iloc[:,0]=='Estado - Sao Paulo',x.columns[0]] =  'SAO PAULO'\n",
        "  x.loc[x.iloc[:,0]=='FLORINIA',x.columns[0]] =  'FLORINEA'\n",
        "  x.loc[x.iloc[:,0]=='LUIS ANTONIO',x.columns[0]] =  'LUIZ ANTONIO'\n",
        "  x.loc[x.iloc[:,0]=='PARIQUERA ACU',x.columns[0]] =  'PARIQUERA-ACU'\n",
        "  x.loc[x.iloc[:,0]=='SANTA RITA DO PASSA QUATR..',x.columns[0]] =  'SANTA RITA DO PASSA QUATRO'\n",
        "  x.loc[x.iloc[:,0]=='SANTO ANTONIO DO ARACAN..',x.columns[0]] =  'SANTO ANTONIO DO ARACANGUA'\n",
        "  x.loc[x.iloc[:,0]==\"SAO JOAO DO PAU D'ALHO\",x.columns[0]] =  \"SAO JOAO DO PAU-D'ALHO\"\n",
        "  x.loc[x.iloc[:,0]=='SAO LUIS DO PARAITINGA',x.columns[0]] =  'SAO LUIZ DO PARAITINGA'\n",
        "\n",
        "  x.loc[x.iloc[:,1]=='1 DOSE',x.columns[1]] =  'D1'\n",
        "  x.loc[x.iloc[:,1]=='1 Dose',x.columns[1]] =  'D1'\n",
        "  x.loc[x.iloc[:,1]=='2 DOSE',x.columns[1]] =  'D2'\n",
        "  x.loc[x.iloc[:,1]=='2 Dose',x.columns[1]] =  'D2'\n",
        "  x.loc[x.iloc[:,1]=='3o DOSE',x.columns[1]] =  'D3'\n",
        "  x.loc[x.iloc[:,1]=='3o DOSE/ADICIONAL',x.columns[1]] =  'D3'\n",
        "  "
      ],
      "execution_count": 8,
      "outputs": []
    },
    {
      "cell_type": "code",
      "metadata": {
        "id": "_xN-6guH1vRD"
      },
      "source": [
        "# CARREGA DATAFRAME DE MUNICÍPIOS BR\n",
        "df_municipios = None\n",
        "df_municipios = pd.DataFrame(pd.read_csv(\"https://raw.githubusercontent.com/cristiano-silva-0182/datasets_estudo/main/00_dados_csv/municipios_BR.csv\", sep=\";\"))\n",
        "df_municipios['mun_desc_sem_acentuacao'] = df_municipios['mun_desc_sem_acentuacao'].str.upper()\n",
        "df_municipios['mun_desc'] = df_municipios['mun_desc'].str.upper()\n",
        "df_municipios['mun_id'] = pd.to_numeric(df_municipios['mun_id'], downcast='integer')\n",
        "df_municipios = df_municipios.loc[(df_municipios['uf']=='SP')]"
      ],
      "execution_count": 9,
      "outputs": []
    },
    {
      "cell_type": "code",
      "metadata": {
        "id": "y24QZIJqMVsT"
      },
      "source": [
        "# Definição de variáveis\n",
        "hoje = date.today() + relativedelta(days=-2)\n",
        "d1 = date(2021,1,16)\n",
        "d2 = date(hoje.year,hoje.month,(hoje.day))\n",
        "dif_dias = int(abs(d2-d1).days)+1\n",
        "prefixo ='https://raw.githubusercontent.com/cristiano-silva-0182/base_distribuicao_e_aplicacao/main/aplica%C3%A7%C3%A3o/'\n",
        "sufixo ='_vacinometro.csv'\n",
        "\n",
        "# Montagem de tabela Calendário\n",
        "tabela_calendario = []\n",
        "for n in range(dif_dias):\n",
        "  data = hoje + relativedelta(days=-n)\n",
        "  data = data.strftime(\"%Y-%m-%d\")\n",
        "  tabela_calendario.append(data)\n",
        "\n",
        "df= pd.DataFrame(tabela_calendario, columns =[\"data\"])\n",
        "df['data'] = pd.to_datetime(df['data'])\n",
        "df['ano']  = df['data'].dt.strftime('%Y')\n",
        "df['mes'] = df['data'].dt.strftime('%m')\n",
        "df['dia'] = df['data'].dt.strftime('%d')\n",
        "df['url'] = prefixo+df['ano']+df['mes']+df['dia']+sufixo\n"
      ],
      "execution_count": 10,
      "outputs": []
    },
    {
      "cell_type": "code",
      "metadata": {
        "id": "B60_cadTf5Lp"
      },
      "source": [
        "# Lista Datas\n",
        "lista_datas = list(df['data'])\n",
        "lista_enderecos = list(df['url'])\n",
        "\n",
        "df_compilado = pd.DataFrame()\n",
        "colunas_dados = ['cidade',\n",
        "               'dose',\n",
        "               'qtde',\n",
        "               'data']\n",
        "\n",
        "# Montagem de Dataframe\n",
        "df_inicial=pd.DataFrame()\n",
        "for dt, endereço in zip(lista_datas, lista_enderecos):\n",
        "    try:\n",
        "        url = endereço\n",
        "        df_arquivo = pd.read_csv(url,sep=';')\n",
        "        df_arquivo = df_arquivo.assign(data = dt)\n",
        "        df_arquivo.columns = colunas_dados\n",
        "        df_arquivo = pd.DataFrame(df_arquivo)\n",
        "        df_arquivo = df_arquivo.astype({\n",
        "            'cidade':str,\n",
        "            'dose':str,\n",
        "            'qtde':int})\n",
        "        \n",
        "        df_inicial = df_inicial.append(df_arquivo, ignore_index=True)\n",
        "        df_arquivo = []\n",
        "\n",
        "    except:\n",
        "        pass\n",
        "\n",
        "df_cidades = pd.DataFrame(df_inicial)\n",
        "\n",
        "cols = df_cidades.select_dtypes(include = [np.object]).columns\n",
        "df_cidades[cols] = df_cidades[cols].apply(lambda x: x.str.normalize('NFKD').str.encode('ascii', errors = 'ignore').str.decode('utf-8'))\n",
        "#Corrige inconsistências no campo 'municipio_resid'\n",
        "df_cidades['cidade'] = df_cidades['cidade'].str.strip() \n",
        "ajuste_cidades(x=df_cidades)\n",
        "#Carrega as informações de Código IBGE e UF\n",
        "df_cidades = pd.merge(df_cidades, df_municipios, left_on=\"cidade\", right_on=\"mun_desc_sem_acentuacao\").drop('mun_desc_sem_acentuacao', axis=1)\n",
        "columns = ['regiao', 'uf', 'estado','area','pop_2010','porte','cidade']\n",
        "df_cidades.drop(columns, inplace=True, axis=1)\n",
        "df_cidades"
      ],
      "execution_count": 11,
      "outputs": []
    }
  ]
}